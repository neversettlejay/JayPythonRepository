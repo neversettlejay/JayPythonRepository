{
 "cells": [
  {
   "cell_type": "code",
   "execution_count": 4,
   "id": "c0db0072",
   "metadata": {},
   "outputs": [
    {
     "data": {
      "text/plain": [
       "'Close and open your terminal window for the installation to take effect, or you can enter the command source ~/.bashrc.\\n\\nTo control whether or not each shell session has the base environment activated or not, run conda config --set auto_activate_base False or True. To run conda from anywhere without having the base environment activated by default, use conda config --set auto_activate_base False. This only works if you have run conda init first.'"
      ]
     },
     "execution_count": 4,
     "metadata": {},
     "output_type": "execute_result"
    }
   ],
   "source": [
    "'''\n",
    "Instructions to use Anaconda on Ubuntu\n",
    "Close and open your terminal window for the installation to take effect, or you can enter the command source ~/.bashrc.\n",
    "\n",
    "To control whether or not each shell session has the base environment activated or not, run conda config --set auto_activate_base False or True. To run conda from anywhere without having the base environment activated by default, use conda config --set auto_activate_base False. This only works if you have run conda init first.'''"
   ]
  },
  {
   "cell_type": "markdown",
   "id": "59955be0",
   "metadata": {},
   "source": [
    "# Python Programs"
   ]
  },
  {
   "cell_type": "code",
   "execution_count": 6,
   "id": "79e3835a",
   "metadata": {},
   "outputs": [
    {
     "name": "stdout",
     "output_type": "stream",
     "text": [
      "1 2\n",
      "1 4\n",
      "1 7\n",
      "2 5\n"
     ]
    }
   ],
   "source": [
    "for x,y in [(1,2),(1,4),(1,7),(2,5)]:\n",
    "    print(x,y)"
   ]
  }
 ],
 "metadata": {
  "kernelspec": {
   "display_name": "Python 3 (ipykernel)",
   "language": "python",
   "name": "python3"
  },
  "language_info": {
   "codemirror_mode": {
    "name": "ipython",
    "version": 3
   },
   "file_extension": ".py",
   "mimetype": "text/x-python",
   "name": "python",
   "nbconvert_exporter": "python",
   "pygments_lexer": "ipython3",
   "version": "3.9.7"
  }
 },
 "nbformat": 4,
 "nbformat_minor": 5
}
